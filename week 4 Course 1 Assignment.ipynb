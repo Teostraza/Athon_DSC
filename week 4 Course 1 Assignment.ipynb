{
    "cells": [
        {
            "metadata": {
                "collapsed": true
            },
            "cell_type": "markdown",
            "source": "<h1>My Jupyter Notebook on IBM Watson Studio</h1>"
        },
        {
            "metadata": {},
            "cell_type": "markdown",
            "source": "<p><strong>Rabbani Zahid Mahdi Tanra</strong><br>\nMy current occupation is Telecommunication engineer and my job is to surveillance Telkomsel Core Network and Services all Region in Indonesia</p>"
        },
        {
            "metadata": {},
            "cell_type": "markdown",
            "source": "<p><em>Im interested in Data Science because I want to create AI to analyse traffic of Telkomsel so that it can gives recommendation \nof bandwith trunks needed for it, and also it can give several options to solve faulty in case some incident occursed.</em></p>"
        },
        {
            "metadata": {},
            "cell_type": "markdown",
            "source": "<h3>Simple Calculator 2 variabel untuk \"+\", \"-\", \"x\" dan \":\"</h3>"
        },
        {
            "metadata": {},
            "cell_type": "code",
            "source": "while True:\n    # Take input from the user\n    choice = input(\"Pilih jenis operator('+'/':'/'x'/':'): \")\n\n    # Check if choice is one of the four options\n    if choice in ('+', '-', 'x', ':'):\n        num1 = float(input(\"angka 1 : \"))\n        num2 = float(input(\"angka 2 : \"))\n\n        if choice == '+':\n            print(num1, \"+\", num2, \"=\", num1 + num2)\n\n        elif choice == ':':\n            print(num1, \"-\", num2, \"=\", num1 - num2)\n\n        elif choice == 'x':\n            print(num1, \"*\", num2, \"=\", num1 * num2)\n\n        elif choice == ':':\n            print(num1, \"/\", num2, \"=\", num1 / num2)\n        break\n    else:\n        print(\"Invalid Input\")",
            "execution_count": 11,
            "outputs": [
                {
                    "output_type": "stream",
                    "name": "stdout",
                    "text": "Pilih jenis operator('+'/':'/'x'/':'): x\nangka 1 : 2\nangka 2 : 5\n2.0 * 5.0 = 10.0\n"
                }
            ]
        },
        {
            "metadata": {},
            "cell_type": "markdown",
            "source": "<h1 style=\"color:blue\" text-align: \"center\"> <ins>DATA SCIENCE</ins> </h1>\n\n<h2 style=\"color:blue\">What is Data Science?</h2>\n\nData science continues to evolve as one of the most promising and in-demand career paths for skilled professionals. Today, successful data professionals understand that they must advance past the traditional skills of analyzing large amounts of data, data mining, and programming skills. In order to uncover useful intelligence for their organizations, data scientists must master the full spectrum of the data science life cycle and possess a level of flexibility and understanding to maximize returns at each phase of the process.\n<br>\n\n<h2 style=\"color:blue\">What Does a Data Scientist Do?</h2>\nIn the past decade, data scientists have become necessary assets and are present in almost all organizations. These professionals are well-rounded, data-driven individuals with high-level technical skills who are capable of building complex quantitative algorithms to organize and synthesize large amounts of information used to answer questions and drive strategy in their organization. This is coupled with the experience in communication and leadership needed to deliver tangible results to various stakeholders across an organization or business.\n<br>\n<br>\n<img src=\"https://ischoolonline.berkeley.edu/wp-content/uploads/sites/37/2021/01/DataScienceLifeCycle.jpg\">\n<br>\n<br>\nData scientists need to be curious and result-oriented, with exceptional industry-specific knowledge and communication skills that allow them to explain highly technical results to their non-technical counterparts. They possess a strong quantitative background in statistics and linear algebra as well as programming knowledge with focuses in data warehousing, mining, and modeling to build and analyze algorithms.\n\nThey must also be able to utilize key technical tools and skills, including:\n\n|               |                 |                   |\n| :---          |    :----:       |          ---:     |\n| Apache Hadoop | NoSQL databases | Tableau           |\n| MapReduce     | Cloud computing | iPython notebooks |\n| R             | D3              | GitHub            |\n\nBelow are the average base salaries for the following positions:\n\n- Data analyst: $65,470\n\n- Data scientist: $120,931\n\n- Senior data scientist: $141,257\n\n- Data engineer: $137,776\n\n\nSource : [Explanation of Data Science](https://ischoolonline.berkeley.edu/data-science/what-is-data-science/)"
        },
        {
            "metadata": {},
            "cell_type": "code",
            "source": "",
            "execution_count": null,
            "outputs": []
        }
    ],
    "metadata": {
        "kernelspec": {
            "name": "python3",
            "display_name": "Python 3.7",
            "language": "python"
        },
        "language_info": {
            "name": "python",
            "version": "3.7.10",
            "mimetype": "text/x-python",
            "codemirror_mode": {
                "name": "ipython",
                "version": 3
            },
            "pygments_lexer": "ipython3",
            "nbconvert_exporter": "python",
            "file_extension": ".py"
        }
    },
    "nbformat": 4,
    "nbformat_minor": 1
}